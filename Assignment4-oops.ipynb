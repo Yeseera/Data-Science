{
 "cells": [
  {
   "cell_type": "markdown",
   "metadata": {},
   "source": [
    "Q1. Explain Class and Object with respect to Object-Oriented Programming. Give a suitable example."
   ]
  },
  {
   "cell_type": "code",
   "execution_count": 3,
   "metadata": {},
   "outputs": [],
   "source": [
    "# Class : A class is a collection of ojects. It is a blueprint for creating objects.\n",
    "#Object: An object is an instance of a class.\n",
    "\n",
    "class Example:\n",
    "    pass\n",
    "\n",
    "#Example is a class"
   ]
  },
  {
   "cell_type": "markdown",
   "metadata": {},
   "source": [
    "Q2. Name the four pillars of OOPs."
   ]
  },
  {
   "cell_type": "code",
   "execution_count": 4,
   "metadata": {},
   "outputs": [
    {
     "data": {
      "text/plain": [
       "' \\n1. Encapsulation\\n2. Abstraction\\n3. Inheritance\\n4. Polymorphism '"
      ]
     },
     "execution_count": 4,
     "metadata": {},
     "output_type": "execute_result"
    }
   ],
   "source": [
    "''' \n",
    "1. Encapsulation\n",
    "2. Abstraction\n",
    "3. Inheritance\n",
    "4. Polymorphism '''\n"
   ]
  },
  {
   "cell_type": "markdown",
   "metadata": {},
   "source": [
    "Q3. Explain why the __init__() function is used. Give a suitable example."
   ]
  },
  {
   "cell_type": "code",
   "execution_count": 5,
   "metadata": {},
   "outputs": [],
   "source": [
    "''' init is an inbuilt function. It is a constructor. It is used to pass data inside a class'''\n",
    "\n",
    "class students:\n",
    "    def __init__(self,name,age,id):\n",
    "        self.name = name\n",
    "        self.age = age\n",
    "        self.id = id\n",
    "\n",
    "    def details(self):\n",
    "        return self.name, self.age,self.id "
   ]
  },
  {
   "cell_type": "code",
   "execution_count": 7,
   "metadata": {},
   "outputs": [
    {
     "data": {
      "text/plain": [
       "('sheena', 22, 102)"
      ]
     },
     "execution_count": 7,
     "metadata": {},
     "output_type": "execute_result"
    }
   ],
   "source": [
    "sheena = students(\"sheena\",22,102)\n",
    "sheena.details()\n",
    "\n"
   ]
  },
  {
   "cell_type": "markdown",
   "metadata": {},
   "source": [
    "Q4. Why self is used in OOPs?"
   ]
  },
  {
   "cell_type": "code",
   "execution_count": 8,
   "metadata": {},
   "outputs": [
    {
     "data": {
      "text/plain": [
       "' - \"self\" tells a class that the function contained within that class , belongs to that class.\\n- self is not a keyword. any word or letter can be used instead provided its the same everywhere   '"
      ]
     },
     "execution_count": 8,
     "metadata": {},
     "output_type": "execute_result"
    }
   ],
   "source": [
    "''' - \"self\" tells a class that the function contained within that class , belongs to that class.\n",
    "- self is not a keyword. any word or letter can be used instead provided its the same everywhere   '''"
   ]
  },
  {
   "cell_type": "markdown",
   "metadata": {},
   "source": [
    "Q5. What is inheritance? Give an example for each type of inheritance."
   ]
  },
  {
   "cell_type": "code",
   "execution_count": 9,
   "metadata": {},
   "outputs": [
    {
     "name": "stdout",
     "output_type": "stream",
     "text": [
      "Animal speaks\n"
     ]
    }
   ],
   "source": [
    "'''  Inheritance is a mechanism in OOP where a class (child or derived class) inherits the properties and behaviors (attributes and methods) from another class (parent or base class). It allows code reuse and a hierarchical class structure.\n",
    "\n",
    "Types of Inheritance:\n",
    "\n",
    "Single Inheritance: A class inherits from one base class.\n",
    "'''\n",
    "\n",
    "class Animal:\n",
    "    def speak(self):\n",
    "        return \"Animal speaks\"\n",
    "\n",
    "class Dog(Animal):  # Single inheritance\n",
    "    def bark(self):\n",
    "        return \"Dog barks\"\n",
    "\n",
    "my_dog = Dog()\n",
    "print(my_dog.speak())  \n"
   ]
  },
  {
   "cell_type": "code",
   "execution_count": 10,
   "metadata": {},
   "outputs": [
    {
     "name": "stdout",
     "output_type": "stream",
     "text": [
      "Flying\n",
      "Swimming\n"
     ]
    }
   ],
   "source": [
    "# Multiple Inheritance: A class inherits from more than one base class.\n",
    "\n",
    "class Flyer:\n",
    "    def fly(self):\n",
    "        return \"Flying\"\n",
    "\n",
    "class Swimmer:\n",
    "    def swim(self):\n",
    "        return \"Swimming\"\n",
    "\n",
    "class Duck(Flyer, Swimmer):  # Multiple inheritance\n",
    "    pass\n",
    "\n",
    "my_duck = Duck()\n",
    "print(my_duck.fly())  \n",
    "print(my_duck.swim())  \n"
   ]
  },
  {
   "cell_type": "code",
   "execution_count": 11,
   "metadata": {},
   "outputs": [
    {
     "name": "stdout",
     "output_type": "stream",
     "text": [
      "Animal speaks\n",
      "Mammal walks\n"
     ]
    }
   ],
   "source": [
    "# Multilevel Inheritance: A class inherits from a derived class, forming a chain.\n",
    "class Animal:\n",
    "    def speak(self):\n",
    "        return \"Animal speaks\"\n",
    "\n",
    "class Mammal(Animal):  # Inheriting from Animal\n",
    "    def walk(self):\n",
    "        return \"Mammal walks\"\n",
    "\n",
    "class Dog(Mammal):  # Inheriting from Mammal (Multilevel inheritance)\n",
    "    def bark(self):\n",
    "        return \"Dog barks\"\n",
    "\n",
    "my_dog = Dog()\n",
    "print(my_dog.speak())  \n",
    "print(my_dog.walk())   \n"
   ]
  },
  {
   "cell_type": "code",
   "execution_count": 12,
   "metadata": {},
   "outputs": [
    {
     "name": "stdout",
     "output_type": "stream",
     "text": [
      "Animal speaks\n",
      "Dog barks\n"
     ]
    }
   ],
   "source": [
    "# Hierarchical Inheritance: Multiple derived classes inherit from a single base class.\n",
    "\n",
    "class Animal:\n",
    "    def speak(self):\n",
    "        return \"Animal speaks\"\n",
    "\n",
    "class Cat(Animal):  # Inheriting from Animal\n",
    "    def meow(self):\n",
    "        return \"Cat meows\"\n",
    "\n",
    "class Dog(Animal):  # Inheriting from Animal\n",
    "    def bark(self):\n",
    "        return \"Dog barks\"\n",
    "\n",
    "my_dog = Dog()\n",
    "print(my_dog.speak())  # Output: Animal speaks\n",
    "print(my_dog.bark())   # Output: Dog barks\n"
   ]
  }
 ],
 "metadata": {
  "kernelspec": {
   "display_name": "ds",
   "language": "python",
   "name": "python3"
  },
  "language_info": {
   "codemirror_mode": {
    "name": "ipython",
    "version": 3
   },
   "file_extension": ".py",
   "mimetype": "text/x-python",
   "name": "python",
   "nbconvert_exporter": "python",
   "pygments_lexer": "ipython3",
   "version": "3.12.0"
  }
 },
 "nbformat": 4,
 "nbformat_minor": 2
}
