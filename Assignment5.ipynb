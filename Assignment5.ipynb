{
 "cells": [
  {
   "cell_type": "markdown",
   "metadata": {},
   "source": [
    "1. Who developed Python Programming Language?\n",
    "    - Guido van Rossum\n",
    "\n",
    "2. Is Python case sensitive when dealing with identifiers?\n",
    "    - Yes\n",
    "\n",
    "3. Which type of Programming does Python support?\n",
    "    - Object-oriented programming, procedural programming, and functional programming\n",
    "\n",
    "4. What is the correct extension of the Python file?\n",
    "    - .py\n",
    "\n",
    "5. Is Python code compiled or interpreted?\n",
    "    - Interpreted\n",
    "\n",
    "6. Name a few blocks of code used to define in Python language?\n",
    "    - Functions, classes, loops, and conditional statements\n",
    "\n",
    "7. State a character used to give single-line comments in Python?\n",
    "    -  Hash Symbol \"#\"\n",
    "\n",
    "8. Mention functions which can help us to find the version of Python that we are currently working on?\n",
    "    - sys.version, sys.version_info , python --version\n",
    "\n",
    "9. Python supports the creation of anonymous functions at runtime, using a construct called ________.\n",
    "     - lambda\n",
    "\n",
    "10. What does pip stand for in Python?\n",
    "     - Pip Installs Packages\n",
    "\n",
    "11. Mention a few built-in functions in Python.\n",
    "     - print(), len(), type(), int(), str(), sum()\n",
    "\n",
    "12. What is the maximum possible length of an identifier in Python?\n",
    "     - 79 characters\n",
    "\n",
    "13. What are the benefits of using Python?\n",
    "    - Easy to learn, versatile, extensive libraries, and community support\n",
    "\n",
    "14. How is memory managed in Python?\n",
    "     - Automatic garbage collection\n",
    "\n",
    "15. How to install Python on Windows and set path variables?\n",
    "    - Download from python.org, run the installer, and check the option to add Python to PATH\n",
    "\n",
    "16. Is indentation required in Python?\n",
    "    - Yes"
   ]
  },
  {
   "cell_type": "markdown",
   "metadata": {},
   "source": []
  }
 ],
 "metadata": {
  "language_info": {
   "name": "python"
  }
 },
 "nbformat": 4,
 "nbformat_minor": 2
}
