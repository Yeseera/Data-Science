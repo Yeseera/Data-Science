{
 "cells": [
  {
   "cell_type": "markdown",
   "metadata": {},
   "source": [
    "Question: Write a program to accept a percentage from the user and display the grade according to the following criteria:\n",
    "\n",
    "Marks above 90: Grade A\n",
    "Marks greater than 80 and up to 90: Grade B\n",
    "Marks greater than or equal to 60 and less than or equal to 80: Grade C\n",
    "Marks below 60: Grade D"
   ]
  },
  {
   "cell_type": "code",
   "execution_count": 1,
   "metadata": {},
   "outputs": [
    {
     "name": "stdout",
     "output_type": "stream",
     "text": [
      "Your grade is A\n"
     ]
    }
   ],
   "source": [
    "# Get percentage from user\n",
    "percentage = float(input(\"Enter your percentage: \"))\n",
    "\n",
    "# Determine grade based on criteria\n",
    "if percentage > 90:\n",
    "    grade = 'A'\n",
    "elif percentage > 80:\n",
    "    grade = 'B'\n",
    "elif percentage >= 60:\n",
    "    grade = 'C'\n",
    "else:\n",
    "    grade = 'D'\n",
    "\n",
    "# Display the grade\n",
    "print(f\"Your grade is {grade}\")\n"
   ]
  },
  {
   "cell_type": "markdown",
   "metadata": {},
   "source": [
    "Write a program to accept the cost price of a bike and display the road tax to be paid according to the following criteria:\n",
    "\n",
    "Tax\tCost Price (in Rs)\n",
    "15%\t> 100000\n",
    "10%\t>= 50000 and <= 100000\n",
    "5%\t<= 50000"
   ]
  },
  {
   "cell_type": "code",
   "execution_count": 2,
   "metadata": {},
   "outputs": [
    {
     "name": "stdout",
     "output_type": "stream",
     "text": [
      "The road tax to be paid is: 7500.0\n"
     ]
    }
   ],
   "source": [
    "# Function to calculate road tax based on cost price\n",
    "def calculate_road_tax(cost_price):\n",
    "    if cost_price > 100000:\n",
    "        return cost_price * 0.15\n",
    "    elif cost_price >= 50000:\n",
    "        return cost_price * 0.10\n",
    "    else:\n",
    "        return cost_price * 0.05\n",
    "\n",
    "\n",
    "cost_price = float(input(\"Enter the cost price of the bike: \"))\n",
    "road_tax = calculate_road_tax(cost_price)\n",
    "print(f\"The road tax to be paid is: {road_tax}\")\n"
   ]
  },
  {
   "cell_type": "markdown",
   "metadata": {},
   "source": [
    "Accept any city from the user and display the monument of that city.\n",
    "\n",
    "Table\n",
    "\n",
    "City\tMonument\n",
    "Delhi\tRed Fort\n",
    "Agra\tTaj Mahal\n",
    "Jaipur\tJal Mahal"
   ]
  },
  {
   "cell_type": "code",
   "execution_count": 4,
   "metadata": {},
   "outputs": [
    {
     "name": "stdout",
     "output_type": "stream",
     "text": [
      "The monument in Agra is Taj Mahal.\n"
     ]
    }
   ],
   "source": [
    "# Dictionary mapping cities to their monuments\n",
    "monuments = {\n",
    "    'Delhi': 'Red Fort',\n",
    "    'Agra': 'Taj Mahal',\n",
    "    'Jaipur': 'Jal Mahal'\n",
    "}\n",
    "\n",
    "# Function to accept city from the user and display the monument\n",
    "def display_monument():\n",
    "    # Get city input from the user\n",
    "    city = input(\"Enter a city: \")\n",
    "    \n",
    "    # Display the corresponding monument or an error message if the city is not found\n",
    "    if city in monuments:\n",
    "        print(f\"The monument in {city} is {monuments[city]}.\")\n",
    "    else:\n",
    "        print(\"City not found in the list.\")\n",
    "\n",
    "display_monument()\n"
   ]
  },
  {
   "cell_type": "markdown",
   "metadata": {},
   "source": [
    " Check how many times a given number can be divided by 3 before it is less than or equal to 10."
   ]
  },
  {
   "cell_type": "code",
   "execution_count": 5,
   "metadata": {},
   "outputs": [
    {
     "name": "stdout",
     "output_type": "stream",
     "text": [
      "The number can be divided 1 times before it is less than or equal to 10.\n"
     ]
    }
   ],
   "source": [
    "number = int(input(\"Enter a number: \"))\n",
    "count = 0\n",
    "\n",
    "while number > 10:\n",
    "    number /= 3\n",
    "    count += 1\n",
    "\n",
    "print(f\"The number can be divided {count} times before it is less than or equal to 10.\")\n"
   ]
  },
  {
   "cell_type": "markdown",
   "metadata": {},
   "source": [
    "Why and When to Use while Loop in Python? Give a detailed description with an example.\n",
    "\n",
    "Answer: A while loop is used when the number of iterations is not known beforehand and depends on a condition. It continues to execute as long as the condition is true."
   ]
  },
  {
   "cell_type": "code",
   "execution_count": 6,
   "metadata": {},
   "outputs": [
    {
     "name": "stdout",
     "output_type": "stream",
     "text": [
      "Count is: 0\n",
      "Count is: 1\n",
      "Count is: 2\n",
      "Count is: 3\n",
      "Count is: 4\n"
     ]
    }
   ],
   "source": [
    "count = 0\n",
    "while count < 5:\n",
    "    print(\"Count is:\", count)\n",
    "    count += 1\n"
   ]
  },
  {
   "cell_type": "markdown",
   "metadata": {},
   "source": [
    "Use nested while loop to print 3 different patterns."
   ]
  },
  {
   "cell_type": "code",
   "execution_count": 7,
   "metadata": {},
   "outputs": [
    {
     "name": "stdout",
     "output_type": "stream",
     "text": [
      "*\n",
      "**\n",
      "***\n",
      "****\n",
      "*****\n",
      "*****\n",
      "****\n",
      "***\n",
      "**\n",
      "*\n",
      "    *\n",
      "   ***\n",
      "  *****\n",
      " *******\n",
      "*********\n"
     ]
    }
   ],
   "source": [
    "# Pattern 1: Right-angled triangle\n",
    "i = 1\n",
    "while i <= 5:\n",
    "    j = 1\n",
    "    while j <= i:\n",
    "        print(\"*\", end=\"\")\n",
    "        j += 1\n",
    "    print()\n",
    "    i += 1\n",
    "\n",
    "# Pattern 2: Inverted right-angled triangle\n",
    "i = 5\n",
    "while i >= 1:\n",
    "    j = 1\n",
    "    while j <= i:\n",
    "        print(\"*\", end=\"\")\n",
    "        j += 1\n",
    "    print()\n",
    "    i -= 1\n",
    "\n",
    "# Pattern 3: Pyramid\n",
    "i = 1\n",
    "while i <= 5:\n",
    "    j = 5\n",
    "    while j > i:\n",
    "        print(\" \", end=\"\")\n",
    "        j -= 1\n",
    "    k = 1\n",
    "    while k <= (2 * i - 1):\n",
    "        print(\"*\", end=\"\")\n",
    "        k += 1\n",
    "    print()\n",
    "    i += 1\n"
   ]
  },
  {
   "cell_type": "markdown",
   "metadata": {},
   "source": [
    " Reverse a while loop to display numbers from 10 to 1."
   ]
  },
  {
   "cell_type": "code",
   "execution_count": 8,
   "metadata": {},
   "outputs": [
    {
     "name": "stdout",
     "output_type": "stream",
     "text": [
      "10\n",
      "9\n",
      "8\n",
      "7\n",
      "6\n",
      "5\n",
      "4\n",
      "3\n",
      "2\n",
      "1\n"
     ]
    }
   ],
   "source": [
    "i = 10\n",
    "while i >= 1:\n",
    "    print(i)\n",
    "    i -= 1\n"
   ]
  }
 ],
 "metadata": {
  "kernelspec": {
   "display_name": "ds",
   "language": "python",
   "name": "python3"
  },
  "language_info": {
   "codemirror_mode": {
    "name": "ipython",
    "version": 3
   },
   "file_extension": ".py",
   "mimetype": "text/x-python",
   "name": "python",
   "nbconvert_exporter": "python",
   "pygments_lexer": "ipython3",
   "version": "3.12.0"
  }
 },
 "nbformat": 4,
 "nbformat_minor": 2
}
