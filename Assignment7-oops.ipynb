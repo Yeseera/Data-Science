{
 "cells": [
  {
   "cell_type": "markdown",
   "metadata": {},
   "source": [
    "Q1. What is Abstraction in OOps? Explain with an example."
   ]
  },
  {
   "cell_type": "code",
   "execution_count": 1,
   "metadata": {},
   "outputs": [
    {
     "data": {
      "text/plain": [
       "'G Wagon'"
      ]
     },
     "execution_count": 1,
     "metadata": {},
     "output_type": "execute_result"
    }
   ],
   "source": [
    "#Abstraction is the process of creating a blueprint or an outline of the code . \n",
    "'''Abstract classes are classes that contain one or more abstract methods. An abstract method is a method that is declared,\n",
    " but contains no implementation.'''\n",
    "\n",
    "#Example\n",
    "\n",
    "import abc\n",
    "class cars():\n",
    "\n",
    "    @abc.abstractmethod\n",
    "    def name(self):\n",
    "        pass\n",
    "\n",
    "class benz():\n",
    "    def name(self):\n",
    "        return \"G Wagon\"\n",
    "    \n",
    "b = benz()\n",
    "b.name()"
   ]
  },
  {
   "cell_type": "markdown",
   "metadata": {},
   "source": [
    "Q2. Differentiate between Abstraction and Encapsulation. Explain with an example."
   ]
  },
  {
   "cell_type": "code",
   "execution_count": 4,
   "metadata": {},
   "outputs": [
    {
     "data": {
      "text/plain": [
       "'Innova'"
      ]
     },
     "execution_count": 4,
     "metadata": {},
     "output_type": "execute_result"
    }
   ],
   "source": [
    "'''Abstraction: Creates a blueprint of the class and methods before we start actual coding.'''\n",
    "'''Encapsulation: Makes the variable names not accessible from outside the class by adding underscores'''\n",
    "\n",
    "#Abstraction Example\n",
    "import abc\n",
    "class cars():\n",
    "\n",
    "    @abc.abstractmethod\n",
    "    def name(self):\n",
    "        pass\n",
    "\n",
    "class toyota():\n",
    "    def name(self):\n",
    "        return \"Innova\"\n",
    "    \n",
    "t = toyota()\n",
    "t.name()\n"
   ]
  },
  {
   "cell_type": "code",
   "execution_count": 13,
   "metadata": {},
   "outputs": [
    {
     "data": {
      "text/plain": [
       "'Audi'"
      ]
     },
     "execution_count": 13,
     "metadata": {},
     "output_type": "execute_result"
    }
   ],
   "source": [
    "#Encapsulation example\n",
    "\n",
    "class car():\n",
    "    def __init__(self,name) :\n",
    "        self.__name = name\n",
    "\n",
    "c = car(\"Audi\")\n",
    "c._car__name"
   ]
  },
  {
   "cell_type": "markdown",
   "metadata": {},
   "source": [
    "Q3. What is abc module in python? Why is it used?"
   ]
  },
  {
   "cell_type": "code",
   "execution_count": 14,
   "metadata": {},
   "outputs": [
    {
     "data": {
      "text/plain": [
       "'The abc module in Python stands for Abstract Base Classes. It provides the infrastructure for defining abstract base classes (ABCs)'"
      ]
     },
     "execution_count": 14,
     "metadata": {},
     "output_type": "execute_result"
    }
   ],
   "source": [
    "'''The abc module in Python stands for Abstract Base Classes. It provides the infrastructure for defining abstract base classes (ABCs)'''"
   ]
  },
  {
   "cell_type": "markdown",
   "metadata": {},
   "source": [
    "Q4. How can we achieve data abstraction?"
   ]
  },
  {
   "cell_type": "code",
   "execution_count": 15,
   "metadata": {},
   "outputs": [
    {
     "data": {
      "text/plain": [
       "'Data abstraction is achieved by exposing only the essential features of an object while hiding the implementation details.\\nBy using abstract classes and methods.'"
      ]
     },
     "execution_count": 15,
     "metadata": {},
     "output_type": "execute_result"
    }
   ],
   "source": [
    "'''Data abstraction is achieved by exposing only the essential features of an object while hiding the implementation details.\n",
    "By using abstract classes and methods.'''"
   ]
  },
  {
   "cell_type": "markdown",
   "metadata": {},
   "source": [
    "Q5. Can we create an instance of an abstract class? Explain your answer."
   ]
  },
  {
   "cell_type": "code",
   "execution_count": 16,
   "metadata": {},
   "outputs": [
    {
     "data": {
      "text/plain": [
       "'No, you cannot create an instance of an abstract class in Python.\\n\\nAn abstract class is a class that contains one or more abstract methods, which are methods declared but contain no implementation. Abstract classes are meant to be inherited by other classes that provide implementations for the abstract methods.'"
      ]
     },
     "execution_count": 16,
     "metadata": {},
     "output_type": "execute_result"
    }
   ],
   "source": [
    "'''No, you cannot create an instance of an abstract class in Python.\n",
    "\n",
    "An abstract class is a class that contains one or more abstract methods, which are methods declared but contain no implementation. \n",
    "Abstract classes are meant to be inherited by other classes that provide implementations for the abstract methods.'''"
   ]
  }
 ],
 "metadata": {
  "kernelspec": {
   "display_name": "ds",
   "language": "python",
   "name": "python3"
  },
  "language_info": {
   "codemirror_mode": {
    "name": "ipython",
    "version": 3
   },
   "file_extension": ".py",
   "mimetype": "text/x-python",
   "name": "python",
   "nbconvert_exporter": "python",
   "pygments_lexer": "ipython3",
   "version": "3.12.0"
  }
 },
 "nbformat": 4,
 "nbformat_minor": 2
}
