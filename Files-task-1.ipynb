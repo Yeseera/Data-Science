{
 "cells": [
  {
   "cell_type": "markdown",
   "metadata": {},
   "source": [
    "Q1. Which function is used to open a file? What are the different modes of opening a file? Explain each mode\n",
    "of file opening."
   ]
  },
  {
   "cell_type": "code",
   "execution_count": 1,
   "metadata": {},
   "outputs": [
    {
     "data": {
      "text/plain": [
       "'The open() function is used to open a file in Python.\\n\\nModes of Opening a File:\\n- r (Read Mode): Opens the file for reading only. If the file does not exist, it raises an error.\\n- w (Write Mode): Opens the file for writing. If the file already exists, its content is truncated (overwritten). If the file does not exist, a new one is created.\\n- a (Append Mode): Opens the file for appending new content at the end of the file without overwriting existing data. If the file does not exist, it creates a new one.\\n- x (Exclusive Creation Mode): Creates a new file. If the file already exists, it raises an error.\\n- b (Binary Mode): Opens the file in binary format. Used in combination with other modes like rb, wb, etc.\\n'"
      ]
     },
     "execution_count": 1,
     "metadata": {},
     "output_type": "execute_result"
    }
   ],
   "source": [
    "'''The open() function is used to open a file in Python.\n",
    "\n",
    "Modes of Opening a File:\n",
    "- r (Read Mode): Opens the file for reading only. If the file does not exist, it raises an error.\n",
    "- w (Write Mode): Opens the file for writing. If the file already exists, its content is truncated (overwritten). If the file does not exist, a new one is created.\n",
    "- a (Append Mode): Opens the file for appending new content at the end of the file without overwriting existing data. If the file does not exist, it creates a new one.\n",
    "- x (Exclusive Creation Mode): Creates a new file. If the file already exists, it raises an error.\n",
    "- b (Binary Mode): Opens the file in binary format. Used in combination with other modes like rb, wb, etc.\n",
    "'''"
   ]
  },
  {
   "cell_type": "markdown",
   "metadata": {},
   "source": [
    "Q2. Why is the close() function used? Why is it important to close a file?"
   ]
  },
  {
   "cell_type": "code",
   "execution_count": 2,
   "metadata": {},
   "outputs": [
    {
     "data": {
      "text/plain": [
       "'The close() function is used to close a file that was previously opened using the open() function.\\n\\nImportance of Closing a File:\\nResource Management: It frees up system resources used by the file.\\nData Integrity: Ensures that any data written to the file is properly saved and not lost.\\nAvoiding Errors: Prevents issues like file locking, incomplete writes, or memory leaks.\\nFile Limits: Some systems have limits on the number of files that can be open simultaneously. Closing files helps stay within these limits.\\n'"
      ]
     },
     "execution_count": 2,
     "metadata": {},
     "output_type": "execute_result"
    }
   ],
   "source": [
    "'''The close() function is used to close a file that was previously opened using the open() function.\n",
    "\n",
    "Importance of Closing a File:\n",
    "Resource Management: It frees up system resources used by the file.\n",
    "Data Integrity: Ensures that any data written to the file is properly saved and not lost.\n",
    "Avoiding Errors: Prevents issues like file locking, incomplete writes, or memory leaks.\n",
    "File Limits: Some systems have limits on the number of files that can be open simultaneously. Closing files helps stay within these limits.\n",
    "'''"
   ]
  },
  {
   "cell_type": "markdown",
   "metadata": {},
   "source": [
    "Q3. Write a Python program to create a text file, write text, close it, and read its content."
   ]
  },
  {
   "cell_type": "code",
   "execution_count": 3,
   "metadata": {},
   "outputs": [
    {
     "name": "stdout",
     "output_type": "stream",
     "text": [
      "I want to become a Data Scientist\n"
     ]
    }
   ],
   "source": [
    "# Create and write to a file\n",
    "with open(\"data_scientist.txt\", \"w\") as file:\n",
    "    file.write(\"I want to become a Data Scientist\")\n",
    "\n",
    "# Open and read the file content\n",
    "with open(\"data_scientist.txt\", \"r\") as file:\n",
    "    content = file.read()\n",
    "    print(content)\n"
   ]
  },
  {
   "cell_type": "markdown",
   "metadata": {},
   "source": [
    "Q4. Explain read(), readline(), and readlines() with code."
   ]
  },
  {
   "cell_type": "code",
   "execution_count": 4,
   "metadata": {},
   "outputs": [
    {
     "name": "stdout",
     "output_type": "stream",
     "text": [
      "Using read():\n",
      "Hello, World!\n",
      "Welcome to Python File Handling.\n",
      "File handling is fun!\n",
      "\n",
      "\n",
      "Using readline():\n",
      "Hello, World!\n",
      "\n",
      "Welcome to Python File Handling.\n",
      "\n",
      "\n",
      "Using readlines():\n",
      "['Hello, World!\\n', 'Welcome to Python File Handling.\\n', 'File handling is fun!\\n']\n"
     ]
    }
   ],
   "source": [
    "'''read(): Reads the entire content of the file as a single string.\n",
    "readline(): Reads one line from the file.\n",
    "readlines(): Reads all lines from the file and returns them as a list of strings.'''\n",
    "\n",
    "\n",
    "# Sample file content: \n",
    "# Line 1: Hello, World!\n",
    "# Line 2: Welcome to Python File Handling.\n",
    "# Line 3: File handling is fun!\n",
    "\n",
    "with open(\"sample.txt\", \"w\") as file:\n",
    "    file.writelines([\"Hello, World!\\n\", \"Welcome to Python File Handling.\\n\", \"File handling is fun!\\n\"])\n",
    "\n",
    "with open(\"sample.txt\", \"r\") as file:\n",
    "    print(\"Using read():\")\n",
    "    print(file.read())  # Reads the entire file content\n",
    "\n",
    "with open(\"sample.txt\", \"r\") as file:\n",
    "    print(\"\\nUsing readline():\")\n",
    "    print(file.readline())  # Reads the first line\n",
    "    print(file.readline())  # Reads the second line\n",
    "\n",
    "with open(\"sample.txt\", \"r\") as file:\n",
    "    print(\"\\nUsing readlines():\")\n",
    "    print(file.readlines())  # Reads all lines and returns a list\n",
    "\n",
    "\n"
   ]
  },
  {
   "cell_type": "markdown",
   "metadata": {},
   "source": [
    "Q5. Why is the with statement used with open()? What is the advantage of using with and open() together?"
   ]
  },
  {
   "cell_type": "code",
   "execution_count": 5,
   "metadata": {},
   "outputs": [
    {
     "data": {
      "text/plain": [
       "'The with statement ensures that resources, such as files, are properly managed.\\n\\nAdvantages:\\nAutomatic File Closing: It automatically closes the file after the block of code is executed, even if an error occurs.\\nCleaner Syntax: Reduces the need for explicit calls to close().\\nError Handling: Ensures resources are released properly in case of exceptions'"
      ]
     },
     "execution_count": 5,
     "metadata": {},
     "output_type": "execute_result"
    }
   ],
   "source": [
    "'''The with statement ensures that resources, such as files, are properly managed.\n",
    "\n",
    "Advantages:\n",
    "Automatic File Closing: It automatically closes the file after the block of code is executed, even if an error occurs.\n",
    "Cleaner Syntax: Reduces the need for explicit calls to close().\n",
    "Error Handling: Ensures resources are released properly in case of exceptions'''"
   ]
  },
  {
   "cell_type": "markdown",
   "metadata": {},
   "source": [
    "Q6. Explain the write() and writelines() functions with an example.\n"
   ]
  },
  {
   "cell_type": "code",
   "execution_count": 6,
   "metadata": {},
   "outputs": [
    {
     "data": {
      "text/plain": [
       "'write(): Writes a single string to the file.\\nwritelines(): Writes a list of strings to the file.'"
      ]
     },
     "execution_count": 6,
     "metadata": {},
     "output_type": "execute_result"
    }
   ],
   "source": [
    "'''write(): Writes a single string to the file.\n",
    "writelines(): Writes a list of strings to the file.'''"
   ]
  }
 ],
 "metadata": {
  "kernelspec": {
   "display_name": "ds",
   "language": "python",
   "name": "python3"
  },
  "language_info": {
   "codemirror_mode": {
    "name": "ipython",
    "version": 3
   },
   "file_extension": ".py",
   "mimetype": "text/x-python",
   "name": "python",
   "nbconvert_exporter": "python",
   "pygments_lexer": "ipython3",
   "version": "3.12.0"
  }
 },
 "nbformat": 4,
 "nbformat_minor": 2
}
