{
 "cells": [
  {
   "cell_type": "markdown",
   "metadata": {},
   "source": [
    "Q1. Create a function which will take a list as an argument and return the product of all the numbers\n",
    "after creating a flat list.\n",
    "Use the below-given list as an argument for your function.\n",
    "list1 = [1,2,3,4, [44,55,66, True], False, (34,56,78,89,34), {1,2,3,3,2,1}, {1:34, \"key2\": [55, 67, 78, 89], 4: (45,\n",
    "22, 61, 34)}, [56, 'data science'], 'Machine Learning']\n",
    "Note: you must extract numeric keys and values of the dictionary also."
   ]
  },
  {
   "cell_type": "code",
   "execution_count": 9,
   "metadata": {},
   "outputs": [
    {
     "name": "stdout",
     "output_type": "stream",
     "text": [
      "Product of all numbers: 4134711838987085478833841242112000\n"
     ]
    }
   ],
   "source": [
    "def flatten_list(input_list):\n",
    "    flat_list = []\n",
    "    for item in input_list:\n",
    "        if isinstance(item, (list, tuple, set)):  # If item is a list, tuple, or set, flatten it\n",
    "            flat_list.extend(flatten_list(list(item)))\n",
    "        elif isinstance(item, dict):  # For dictionary, flatten keys and values\n",
    "            for key, value in item.items():\n",
    "                if isinstance(key, (int, float)) and not isinstance(key, bool):  # Numeric key\n",
    "                    flat_list.append(key)\n",
    "                if isinstance(value, (int, float)) and not isinstance(value, bool):  # Numeric value\n",
    "                    flat_list.append(value)\n",
    "                elif isinstance(value, (list, tuple, set)):  # Flatten nested collections inside dict\n",
    "                    flat_list.extend(flatten_list(list(value)))\n",
    "        elif isinstance(item, (int, float)) and not isinstance(item, bool):  # If item is numeric but not boolean\n",
    "            flat_list.append(item)\n",
    "    return flat_list\n",
    "\n",
    "def product_of_numbers(input_list):\n",
    "    flat_list = flatten_list(input_list)\n",
    "    product = 1\n",
    "    for num in flat_list:\n",
    "        product *= num\n",
    "    return product\n",
    "\n",
    "# Test with provided list\n",
    "list1 = [1, 2, 3, 4, [44, 55, 66, True], False, (34, 56, 78, 89, 34), {1, 2, 3, 3, 2, 1}, \n",
    "         {1: 34, \"key2\": [55, 67, 78, 89], 4: (45, 22, 61, 34)}, \n",
    "         [56, 'data science'], 'Machine Learning']\n",
    "\n",
    "result = product_of_numbers(list1)\n",
    "print(\"Product of all numbers:\", result)\n"
   ]
  },
  {
   "cell_type": "markdown",
   "metadata": {},
   "source": [
    "Q2. Write a python program for encrypting a message sent to you by your friend. The logic of encryption\n",
    "should be such that, for a the output should be z. For b, the output should be y. For c, the output should\n",
    "be x respectively. Also, the whitespace should be replaced with a dollar sign. Keep the punctuation\n",
    "marks unchanged.\n",
    "Input Sentence: I want to become a Data Scientist.\n",
    "Encrypt the above input sentence using the program you just created.\n",
    "Note: Convert the given input sentence into lowercase before encrypting. The final output should be\n",
    "lowercase."
   ]
  },
  {
   "cell_type": "code",
   "execution_count": 2,
   "metadata": {},
   "outputs": [
    {
     "name": "stdout",
     "output_type": "stream",
     "text": [
      "Encrypted message: r$dzmg$gl$yvxlnv$z$wzgz$hxrvmgrhg.\n"
     ]
    }
   ],
   "source": [
    "def encrypt_message(message):\n",
    "    encrypted_message = []\n",
    "    for char in message.lower():\n",
    "        if char.isalpha():  # If character is alphabetic\n",
    "            encrypted_message.append(chr(219 - ord(char)))  # Reverse the alphabet (a -> z, b -> y)\n",
    "        elif char == ' ':  # Replace space with dollar sign\n",
    "            encrypted_message.append('$')\n",
    "        else:\n",
    "            encrypted_message.append(char)  # Keep punctuation unchanged\n",
    "    return ''.join(encrypted_message)\n",
    "\n",
    "# Test with the provided sentence\n",
    "input_sentence = \"I want to become a Data Scientist.\"\n",
    "encrypted_sentence = encrypt_message(input_sentence)\n",
    "print(\"Encrypted message:\", encrypted_sentence)\n"
   ]
  }
 ],
 "metadata": {
  "kernelspec": {
   "display_name": "ds",
   "language": "python",
   "name": "python3"
  },
  "language_info": {
   "codemirror_mode": {
    "name": "ipython",
    "version": 3
   },
   "file_extension": ".py",
   "mimetype": "text/x-python",
   "name": "python",
   "nbconvert_exporter": "python",
   "pygments_lexer": "ipython3",
   "version": "3.12.0"
  }
 },
 "nbformat": 4,
 "nbformat_minor": 2
}
