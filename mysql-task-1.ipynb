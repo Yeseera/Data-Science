{
 "cells": [
  {
   "cell_type": "markdown",
   "metadata": {},
   "source": [
    "Q1. What is a database? Differentiate between SQL and NoSQL databases.\n"
   ]
  },
  {
   "cell_type": "code",
   "execution_count": 1,
   "metadata": {},
   "outputs": [
    {
     "data": {
      "text/plain": [
       "'A database is an organized collection of data that can be stored, retrieved, and managed efficiently.\\nSQL Databases: Relational, structured schema, uses SQL (e.g., MySQL, PostgreSQL).\\nNoSQL Databases: Non-relational, flexible schema, stores data in JSON, key-value, or document formats (e.g., MongoDB, Cassandra).\\n'"
      ]
     },
     "execution_count": 1,
     "metadata": {},
     "output_type": "execute_result"
    }
   ],
   "source": [
    "'''A database is an organized collection of data that can be stored, retrieved, and managed efficiently.\n",
    "SQL Databases: Relational, structured schema, uses SQL (e.g., MySQL, PostgreSQL).\n",
    "NoSQL Databases: Non-relational, flexible schema, stores data in JSON, key-value, or document formats (e.g., MongoDB, Cassandra).\n",
    "'''"
   ]
  },
  {
   "cell_type": "markdown",
   "metadata": {},
   "source": [
    "Q2. What is DDL? Explain why CREATE, DROP, ALTER, and TRUNCATE are used with an example.\n"
   ]
  },
  {
   "cell_type": "code",
   "execution_count": 4,
   "metadata": {},
   "outputs": [
    {
     "data": {
      "text/plain": [
       "\"DDL (Data Definition Language) is used to define or modify the structure of a database.\\nCREATE: Creates a new table or database.\\nExample: CREATE TABLE users (id INT, name VARCHAR(50));\\nDROP: Deletes a table or database.\\nExample: DROP TABLE users;\\nALTER: Modifies a table's structure.\\nExample: ALTER TABLE users ADD email VARCHAR(50);\\nTRUNCATE: Removes all rows from a table without deleting the table structure.\\nExample: TRUNCATE TABLE users;\\n\""
      ]
     },
     "execution_count": 4,
     "metadata": {},
     "output_type": "execute_result"
    }
   ],
   "source": [
    "'''DDL (Data Definition Language) is used to define or modify the structure of a database.\n",
    "CREATE: Creates a new table or database.\n",
    "Example: CREATE TABLE users (id INT, name VARCHAR(50));\n",
    "DROP: Deletes a table or database.\n",
    "Example: DROP TABLE users;\n",
    "ALTER: Modifies a table's structure.\n",
    "Example: ALTER TABLE users ADD email VARCHAR(50);\n",
    "TRUNCATE: Removes all rows from a table without deleting the table structure.\n",
    "Example: TRUNCATE TABLE users;\n",
    "'''"
   ]
  },
  {
   "cell_type": "markdown",
   "metadata": {},
   "source": [
    "Q3. What is DML? Explain INSERT, UPDATE, and DELETE with an example.\n"
   ]
  },
  {
   "cell_type": "code",
   "execution_count": 6,
   "metadata": {},
   "outputs": [
    {
     "data": {
      "text/plain": [
       "\"DML (Data Manipulation Language) is used to manipulate data in a database.\\nINSERT: Adds new records.\\nExample: INSERT INTO users (id, name) VALUES (1, 'John');\\nUPDATE: Modifies existing records.\\nExample: UPDATE users SET name = 'Doe' WHERE id = 1;\\nDELETE: Removes records.\\nExample: DELETE FROM users WHERE id = 1;\""
      ]
     },
     "execution_count": 6,
     "metadata": {},
     "output_type": "execute_result"
    }
   ],
   "source": [
    "'''DML (Data Manipulation Language) is used to manipulate data in a database.\n",
    "INSERT: Adds new records.\n",
    "Example: INSERT INTO users (id, name) VALUES (1, 'John');\n",
    "UPDATE: Modifies existing records.\n",
    "Example: UPDATE users SET name = 'Doe' WHERE id = 1;\n",
    "DELETE: Removes records.\n",
    "Example: DELETE FROM users WHERE id = 1;'''"
   ]
  },
  {
   "cell_type": "markdown",
   "metadata": {},
   "source": [
    "Q4. What is DQL? Explain SELECT with an example.\n"
   ]
  },
  {
   "cell_type": "code",
   "execution_count": 7,
   "metadata": {},
   "outputs": [
    {
     "data": {
      "text/plain": [
       "'DQL (Data Query Language) retrieves data from the database.\\nSELECT: Fetches records.\\nExample: SELECT * FROM users WHERE id = 1;'"
      ]
     },
     "execution_count": 7,
     "metadata": {},
     "output_type": "execute_result"
    }
   ],
   "source": [
    "'''DQL (Data Query Language) retrieves data from the database.\n",
    "SELECT: Fetches records.\n",
    "Example: SELECT * FROM users WHERE id = 1;'''"
   ]
  },
  {
   "cell_type": "markdown",
   "metadata": {},
   "source": [
    "Q5. Explain Primary Key and Foreign Key.\n"
   ]
  },
  {
   "cell_type": "code",
   "execution_count": 9,
   "metadata": {},
   "outputs": [
    {
     "data": {
      "text/plain": [
       "'Primary Key: Uniquely identifies each record in a table.\\nExample: id in a users table.\\nForeign Key: Links two tables by referencing the primary key of another table.\\nExample: user_id in orders table referencing id in users table.'"
      ]
     },
     "execution_count": 9,
     "metadata": {},
     "output_type": "execute_result"
    }
   ],
   "source": [
    "'''Primary Key: Uniquely identifies each record in a table.\n",
    "Example: id in a users table.\n",
    "Foreign Key: Links two tables by referencing the primary key of another table.\n",
    "Example: user_id in orders table referencing id in users table.'''"
   ]
  },
  {
   "cell_type": "markdown",
   "metadata": {},
   "source": [
    "Q6. Write a python code to connect MySQL to python. Explain the cursor() and execute() method.\n"
   ]
  },
  {
   "cell_type": "code",
   "execution_count": 10,
   "metadata": {},
   "outputs": [
    {
     "name": "stdout",
     "output_type": "stream",
     "text": [
      "('Yeseera',)\n",
      "('Yeseera',)\n"
     ]
    }
   ],
   "source": [
    "import mysql.connector\n",
    "\n",
    "# Connect to MySQL\n",
    "mydb = mysql.connector.connect(\n",
    "    host=\"localhost\",\n",
    "    user=\"root\",\n",
    "    password=\"Yeseera@21\",\n",
    "    database=\"test\"\n",
    ")\n",
    "\n",
    "# Create a cursor\n",
    "mycursor = mydb.cursor()\n",
    "\n",
    "# Execute a query\n",
    "mycursor.execute(\"SELECT * FROM details\")\n",
    "\n",
    "# Fetch and print results\n",
    "for row in mycursor:\n",
    "    print(row)\n"
   ]
  },
  {
   "cell_type": "code",
   "execution_count": 11,
   "metadata": {},
   "outputs": [
    {
     "data": {
      "text/plain": [
       "'cursor(): Creates a cursor object for executing SQL queries.\\nexecute(): Executes an SQL query.'"
      ]
     },
     "execution_count": 11,
     "metadata": {},
     "output_type": "execute_result"
    }
   ],
   "source": [
    "'''cursor(): Creates a cursor object for executing SQL queries.\n",
    "execute(): Executes an SQL query.'''"
   ]
  },
  {
   "cell_type": "markdown",
   "metadata": {},
   "source": [
    "Q7. Give the order of execution of SQL clauses in an SQL query."
   ]
  },
  {
   "cell_type": "code",
   "execution_count": 13,
   "metadata": {},
   "outputs": [
    {
     "data": {
      "text/plain": [
       "'FROM\\nWHERE\\nGROUP BY\\nHAVING\\nSELECT\\nORDER BY\\nLIMIT'"
      ]
     },
     "execution_count": 13,
     "metadata": {},
     "output_type": "execute_result"
    }
   ],
   "source": [
    "'''FROM\n",
    "WHERE\n",
    "GROUP BY\n",
    "HAVING\n",
    "SELECT\n",
    "ORDER BY\n",
    "LIMIT'''"
   ]
  }
 ],
 "metadata": {
  "kernelspec": {
   "display_name": "ds",
   "language": "python",
   "name": "python3"
  },
  "language_info": {
   "codemirror_mode": {
    "name": "ipython",
    "version": 3
   },
   "file_extension": ".py",
   "mimetype": "text/x-python",
   "name": "python",
   "nbconvert_exporter": "python",
   "pygments_lexer": "ipython3",
   "version": "3.12.0"
  }
 },
 "nbformat": 4,
 "nbformat_minor": 2
}
