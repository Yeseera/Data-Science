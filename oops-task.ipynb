{
 "cells": [
  {
   "cell_type": "markdown",
   "metadata": {},
   "source": [
    "Q1, Create a vehicle class with an init method having instance variables as name_of_vehicle, max_speed\n",
    "and average_of_vehicle."
   ]
  },
  {
   "cell_type": "code",
   "execution_count": 4,
   "metadata": {},
   "outputs": [
    {
     "name": "stdout",
     "output_type": "stream",
     "text": [
      "Honda Shine\n",
      "90km/hr\n",
      "45km/hr\n"
     ]
    }
   ],
   "source": [
    "#   Created a class vehicles with init method \n",
    "class vehicles:\n",
    "    def __init__(self,name_of_vehicle,max_speed,average_of_vehicle):\n",
    "        self.name_of_vehicle = name_of_vehicle\n",
    "        self.max_speed = max_speed\n",
    "        self.average_of_vehicle = average_of_vehicle\n",
    "        \n",
    "    def vehicle_details(self):\n",
    "        return(self.name_of_vehicle,self.max_speed,self.average_of_vehicle)\n",
    "    \n",
    "    \n",
    "#creating object for vehicle class\n",
    "v = vehicles(\"Honda Shine\",\"90km/hr\",\"45km/hr\")\n",
    "print(v.name_of_vehicle)\n",
    "print(v.max_speed)\n",
    "print(v.average_of_vehicle)\n",
    "    \n",
    "    "
   ]
  },
  {
   "cell_type": "markdown",
   "metadata": {},
   "source": [
    "Q2. Create a child class car from the vehicle class created in Que 1, which will inherit the vehicle class.\n",
    "Create a method named seating_capacity which takes capacity as an argument and returns the name of\n",
    "the vehicle and its seating capacity."
   ]
  },
  {
   "cell_type": "code",
   "execution_count": 9,
   "metadata": {},
   "outputs": [
    {
     "name": "stdout",
     "output_type": "stream",
     "text": [
      "('Audi', '5')\n"
     ]
    }
   ],
   "source": [
    "#Child class car\n",
    "class car(vehicles):\n",
    "    \n",
    "    def seating_capacity(self, capacity):\n",
    "        return (self.name_of_vehicle, capacity)\n",
    "    \n",
    "    \n",
    "c = car(\"Audi\",\"120\",\"80\")\n",
    "print(c.seating_capacity(\"5\"))\n"
   ]
  },
  {
   "cell_type": "markdown",
   "metadata": {},
   "source": [
    "Q3. What is multiple inheritance? Write a python code to demonstrate multiple inheritance."
   ]
  },
  {
   "cell_type": "code",
   "execution_count": 11,
   "metadata": {},
   "outputs": [
    {
     "name": "stdout",
     "output_type": "stream",
     "text": [
      "Cars class for driving functionality\n",
      "Aeroplane class for flying functionality\n",
      "Flying cars - inherited from class cars and aeroplane\n"
     ]
    }
   ],
   "source": [
    "# One class inherits multiple classes is called multiple inheritance\n",
    "\n",
    "#Example for multiple interitance\n",
    "\n",
    "#Class cars and aeroplane as parent class\n",
    "class cars():\n",
    "    def driving(self):\n",
    "        return \"Cars class for driving functionality\"\n",
    "    \n",
    "class aeroplane():\n",
    "    def flying(self):\n",
    "        return\"Aeroplane class for flying functionality\"\n",
    "\n",
    "#class flying cars inherits class cars and aeroplane --> Multiple inheritance  \n",
    "class flying_car(cars,aeroplane):\n",
    "    def flyanddrive(self):\n",
    "        return \"Flying cars - inherited from class cars and aeroplane\"\n",
    "    \n",
    "f = flying_car()\n",
    "print(f.driving())\n",
    "print(f.flying())\n",
    "print(f.flyanddrive())"
   ]
  },
  {
   "cell_type": "markdown",
   "metadata": {},
   "source": [
    "Q4. What are getter and setter in python? Create a class and create a getter and a setter method in this\n",
    "class."
   ]
  },
  {
   "cell_type": "code",
   "execution_count": 1,
   "metadata": {},
   "outputs": [
    {
     "name": "stdout",
     "output_type": "stream",
     "text": [
      " This is getter method before changing : Apple\n",
      " This is after using setter methond :  Pine apple\n"
     ]
    }
   ],
   "source": [
    "# Getter and setter in python are used in data manipulation. \n",
    "# Getter is used to retrieve the data from private attributes of a class\n",
    "# Setter is used to modify or change the value of a private attributes of a class\n",
    "\n",
    "class fruits():\n",
    "    def __init__(self,name ):\n",
    "        self.__name = name \n",
    "        \n",
    "    def get_name(self):\n",
    "        return self.__name\n",
    "    \n",
    "    def set_name(self,new_name):\n",
    "        self.__name = new_name\n",
    "        \n",
    "f = fruits(\"Apple\")\n",
    "print(f\" This is getter method before changing : {f.get_name()}\")\n",
    "\n",
    "f.set_name(\"Pine apple\")\n",
    "print(f\" This is after using setter methond :  {f.get_name()}\")\n"
   ]
  },
  {
   "cell_type": "markdown",
   "metadata": {},
   "source": [
    "Q5.What is method overriding in python? Write a python code to demonstrate method overriding."
   ]
  },
  {
   "cell_type": "code",
   "execution_count": 2,
   "metadata": {},
   "outputs": [
    {
     "name": "stdout",
     "output_type": "stream",
     "text": [
      "Names\n",
      "Student names\n",
      "Teachers names\n"
     ]
    }
   ],
   "source": [
    "# Method overriding is when the child class inherits the parent class and has the same methods and \n",
    "# parameters of the parent class, but the child class can redefine the content within the methods of its class\n",
    "\n",
    "class Details():\n",
    "    def name(self):\n",
    "        print(\"Names\")\n",
    "        \n",
    "class students(Details):\n",
    "    def name(self):\n",
    "        print (\"Student names\")\n",
    "        \n",
    "class teachers(Details):\n",
    "    def name(Self):\n",
    "        print(\"Teachers names\")\n",
    "        \n",
    "d = Details()\n",
    "d.name()\n",
    "\n",
    "s = students()\n",
    "s.name()\n",
    "\n",
    "t = teachers()\n",
    "t.name()\n"
   ]
  }
 ],
 "metadata": {
  "kernelspec": {
   "display_name": "ds",
   "language": "python",
   "name": "python3"
  },
  "language_info": {
   "codemirror_mode": {
    "name": "ipython",
    "version": 3
   },
   "file_extension": ".py",
   "mimetype": "text/x-python",
   "name": "python",
   "nbconvert_exporter": "python",
   "pygments_lexer": "ipython3",
   "version": "3.12.0"
  }
 },
 "nbformat": 4,
 "nbformat_minor": 2
}
